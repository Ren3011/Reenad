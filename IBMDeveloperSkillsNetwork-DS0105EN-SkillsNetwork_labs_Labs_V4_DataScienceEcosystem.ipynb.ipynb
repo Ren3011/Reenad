{
  "metadata": {
    "language_info": {
      "codemirror_mode": {
        "name": "python",
        "version": 3
      },
      "file_extension": ".py",
      "mimetype": "text/x-python",
      "name": "python",
      "nbconvert_exporter": "python",
      "pygments_lexer": "ipython3",
      "version": "3.8"
    },
    "kernelspec": {
      "name": "python",
      "display_name": "Python (Pyodide)",
      "language": "python"
    }
  },
  "nbformat_minor": 4,
  "nbformat": 4,
  "cells": [
    {
      "cell_type": "markdown",
      "source": "Data Science Tools and Ecosystem",
      "metadata": {}
    },
    {
      "cell_type": "markdown",
      "source": "In this notebook, Data Science Tools and Ecosystem are summarized.",
      "metadata": {
        "tags": []
      }
    },
    {
      "cell_type": "markdown",
      "source": "_Objectives:_\n1-Allows recording of data experiences of the scientist\n2-Descriptive text and instruction blocks can be combined\n3-Creation and sharing of documents",
      "metadata": {}
    },
    {
      "cell_type": "markdown",
      "source": "Some of the popular languages that Data Scientists use are:\n1. java\n2. python\n3. c++",
      "metadata": {}
    },
    {
      "cell_type": "markdown",
      "source": "Some of the commonly used libraries used by Data Scientists include:\n1. Pandas\n2. Scipy\n3. Numpy",
      "metadata": {}
    },
    {
      "cell_type": "markdown",
      "source": "| tools data scince |\n| ------------------|\n| management tools  |\n| integration tools | \n| transformation tools| ",
      "metadata": {}
    },
    {
      "cell_type": "markdown",
      "source": "Below are a few examples of evaluating arithmetic expressions in Python\n\n2+1\n5*9\n1-1",
      "metadata": {}
    },
    {
      "cell_type": "code",
      "source": "#his a simple arithmetic expression to mutiply then add integers\n(3*4)+5",
      "metadata": {
        "trusted": true
      },
      "execution_count": 2,
      "outputs": [
        {
          "execution_count": 2,
          "output_type": "execute_result",
          "data": {
            "text/plain": "17"
          },
          "metadata": {}
        }
      ]
    },
    {
      "cell_type": "code",
      "source": "# This will convert 200 minutes to hours by diving by 60\n200/60",
      "metadata": {
        "trusted": true
      },
      "execution_count": 4,
      "outputs": [
        {
          "execution_count": 4,
          "output_type": "execute_result",
          "data": {
            "text/plain": "3.3333333333333335"
          },
          "metadata": {}
        }
      ]
    },
    {
      "cell_type": "markdown",
      "source": "## H2: Author\nReenad Almadhi",
      "metadata": {}
    }
  ]
}